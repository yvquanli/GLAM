{
 "cells": [
  {
   "cell_type": "markdown",
   "metadata": {},
   "source": [
    "# 1 Dataset protein preprocess for submit\n",
    "convert all proteins in lit-pcba dataset to FASTA seq"
   ]
  },
  {
   "cell_type": "code",
   "execution_count": 1,
   "metadata": {},
   "outputs": [],
   "source": [
    "import os\n",
    "import subprocess\n",
    "import numpy as np\n",
    "from subprocess import Popen, PIPE\n",
    "from pathlib import Path\n",
    "dataset_dir = Path('../../../Dataset/GLAM/raw/lit_pcba_raw/')\n",
    "assert dataset_dir.exists()"
   ]
  },
  {
   "cell_type": "markdown",
   "metadata": {},
   "source": [
    "# 2Submit and results download\n",
    "Submit to http://raptorx.uchicago.edu/ContactMap/ and Download all zip file from the results  \n",
    "or drug.ai.tencent.com"
   ]
  },
  {
   "cell_type": "markdown",
   "metadata": {},
   "source": [
    " ..."
   ]
  },
  {
   "cell_type": "markdown",
   "metadata": {},
   "source": [
    "# 3. Raw contact map to {seq:matrix} dict\n",
    "{'ACKFIDSAKLFKDLSJAKLFJ':'MATRIX torch.tensor'}"
   ]
  },
  {
   "cell_type": "markdown",
   "metadata": {},
   "source": [
    "### File Glob"
   ]
  },
  {
   "cell_type": "code",
   "execution_count": 2,
   "metadata": {},
   "outputs": [],
   "source": [
    "import torch\n",
    "from tqdm import tqdm\n",
    "from pathlib import Path\n",
    "\n",
    "def read_probs(path, mean_prob=False):\n",
    "    # fh = open(filename, 'r')\n",
    "    # content = [line.strip() for line in list(fh)]\n",
    "    # fh.close()\n",
    "    # print(content)\n",
    "    with open(path, 'r') as f:\n",
    "        content = f.readlines()\n",
    "\n",
    "    assert len(content) >= 5  # '1. the input file contains fewer than 5 lines'\n",
    "\n",
    "    seq = \"\"\n",
    "    infos = {}\n",
    "    probs = []\n",
    "\n",
    "    for line in content:\n",
    "        # print(line)\n",
    "        if 'SEQ' in line:\n",
    "            seq += line.split()[-1]\n",
    "            continue\n",
    "        if line.startswith('PFRMAT') or line.startswith('TARGET') or line.startswith('AUTHOR') or \\\n",
    "                line.startswith('METHOD') or line.startswith('RMODE') or line.startswith('RMODE') or \\\n",
    "                line.startswith('MODEL') or line.startswith('REMARK') or line.startswith('END'):\n",
    "            infos[line.split()[0]] = line.split()[1:]\n",
    "            continue\n",
    "\n",
    "        columns = line.split()\n",
    "\n",
    "        if len(columns) >= 3:\n",
    "            indices = [int(x) for x in columns[0:2]]\n",
    "            prob = np.float32(columns[2])\n",
    "            # if mean_prob:\n",
    "            #     prob = np.mean([float(x) for x in columns[-10:-1:2]])  # todo: need to check when using\n",
    "\n",
    "            assert 0 <= prob <= 1  # 'The contact prob shall be between 0 and 1: '\n",
    "            # assert 0 < c < 20  # 'The distance shall be between 0 and 20: '\n",
    "            assert indices[0] < indices[1]  # 'The first index in a residue pair shall be smaller than the 2nd one:'\n",
    "\n",
    "            if indices[0] < 1 or indices[0] > len(seq) or indices[1] < 1 or indices[1] > len(seq):\n",
    "                print('The residue index in the following line is out of range: \\n', line)\n",
    "                return None\n",
    "            probs.append(indices + [prob])\n",
    "        else:\n",
    "            print('The following line in the input file has an incorrect format: ')\n",
    "            print(line)\n",
    "            return None\n",
    "    return probs, seq, infos\n",
    "\n",
    "\n",
    "def load_contactmap(path, thre=0.1):\n",
    "    # 0.1  thre to keep 2988/30000 prob data of a 894 AAs protein\n",
    "    # 0.05 thre to keep 4700/30000 prob data\n",
    "    # 0.3  thre to keep 1505/30000 prob data\n",
    "    probs, seq, infos = read_probs(path)\n",
    "    contactmap = np.zeros((len(seq), len(seq)), dtype=np.float32)\n",
    "    for p in probs:\n",
    "        if p[2] >= thre:\n",
    "            contactmap[p[0] - 1, p[1] - 1] = p[2]\n",
    "            contactmap[p[1] - 1, p[0] - 1] = p[2]\n",
    "    return contactmap, seq, infos"
   ]
  },
  {
   "cell_type": "code",
   "execution_count": 6,
   "metadata": {},
   "outputs": [],
   "source": [
    "pro_dm_dir = dataset_dir/'raptorx_pred'/'contact_8.5'"
   ]
  },
  {
   "cell_type": "code",
   "execution_count": 7,
   "metadata": {},
   "outputs": [
    {
     "name": "stderr",
     "output_type": "stream",
     "text": [
      "5it [00:01,  4.20it/s]\n"
     ]
    }
   ],
   "source": [
    "protein_maps_dict = {}  # 574\n",
    "for path in tqdm(pro_dm_dir.glob('*.contactmap.txt')):\n",
    "    contact_map, seq, infos = load_contactmap(path)\n",
    "    protein_maps_dict[seq] = contact_map"
   ]
  },
  {
   "cell_type": "code",
   "execution_count": 8,
   "metadata": {},
   "outputs": [],
   "source": [
    "torch.save(protein_maps_dict, pro_dm_dir/'protein_maps_dict.ckpt')"
   ]
  },
  {
   "cell_type": "code",
   "execution_count": 9,
   "metadata": {},
   "outputs": [],
   "source": [
    "protein_maps_dict = torch.load(pro_dm_dir/'protein_maps_dict.ckpt')\n",
    "# protein_maps_dict.keys()"
   ]
  }
 ],
 "metadata": {
  "interpreter": {
   "hash": "e6dd956dc7809dc0837123f53e286e52f8fa57fd11249219a1098749aa215e20"
  },
  "kernelspec": {
   "display_name": "Python 3.9.13 ('pyg')",
   "language": "python",
   "name": "python3"
  },
  "language_info": {
   "codemirror_mode": {
    "name": "ipython",
    "version": 3
   },
   "file_extension": ".py",
   "mimetype": "text/x-python",
   "name": "python",
   "nbconvert_exporter": "python",
   "pygments_lexer": "ipython3",
   "version": "3.9.13"
  }
 },
 "nbformat": 4,
 "nbformat_minor": 4
}
